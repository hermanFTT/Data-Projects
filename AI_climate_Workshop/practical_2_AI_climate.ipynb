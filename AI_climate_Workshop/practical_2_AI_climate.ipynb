{
 "cells": [
  {
   "cell_type": "code",
   "execution_count": null,
   "metadata": {
    "id": "6Q2iSgzCIxTt"
   },
   "outputs": [],
   "source": [
    "\n",
    "### IMPORT NECESSARY MODULES TO MAKE THIS WORK\n",
    "import matplotlib.pyplot as plt\n",
    "import pandas as pd\n",
    "import numpy as np\n",
    "import os\n"
   ]
  },
  {
   "cell_type": "code",
   "execution_count": null,
   "metadata": {
    "colab": {
     "base_uri": "https://localhost:8080/",
     "height": 425
    },
    "executionInfo": {
     "elapsed": 394,
     "status": "error",
     "timestamp": 1706778432547,
     "user": {
      "displayName": "Herman Franclin TESSO TASSANG",
      "userId": "12553198285820224924"
     },
     "user_tz": -120
    },
    "id": "-MRkrh4VJFD-",
    "outputId": "65d8d476-4a53-44e9-d294-aabe3a03cb1f"
   },
   "outputs": [
    {
     "ename": "FileNotFoundError",
     "evalue": "[Errno 2] No such file or directory: '/home/herman/Downloads/HadCRUT.4.6.0.0.monthly_ns_avg.txt'",
     "output_type": "error",
     "traceback": [
      "\u001b[0;31m---------------------------------------------------------------------------\u001b[0m",
      "\u001b[0;31mFileNotFoundError\u001b[0m                         Traceback (most recent call last)",
      "\u001b[0;32m<ipython-input-4-3c34b74901af>\u001b[0m in \u001b[0;36m<cell line: 4>\u001b[0;34m()\u001b[0m\n\u001b[1;32m      2\u001b[0m \u001b[0;34m\u001b[0m\u001b[0m\n\u001b[1;32m      3\u001b[0m \u001b[0;31m### OPEN THE GLOBAL MEAN TEMPERATURE FILE INTO DATAFRAME modify for your filename\u001b[0m\u001b[0;34m\u001b[0m\u001b[0;34m\u001b[0m\u001b[0m\n\u001b[0;32m----> 4\u001b[0;31m hadcrut = pd.read_csv(\n\u001b[0m\u001b[1;32m      5\u001b[0m     \u001b[0;34m\"/home/herman/Downloads/HadCRUT.4.6.0.0.monthly_ns_avg.txt\"\u001b[0m\u001b[0;34m,\u001b[0m\u001b[0;34m\u001b[0m\u001b[0;34m\u001b[0m\u001b[0m\n\u001b[1;32m      6\u001b[0m     \u001b[0mdelim_whitespace\u001b[0m\u001b[0;34m=\u001b[0m\u001b[0;32mTrue\u001b[0m\u001b[0;34m,\u001b[0m\u001b[0;34m\u001b[0m\u001b[0;34m\u001b[0m\u001b[0m\n",
      "\u001b[0;32m/usr/local/lib/python3.10/dist-packages/pandas/util/_decorators.py\u001b[0m in \u001b[0;36mwrapper\u001b[0;34m(*args, **kwargs)\u001b[0m\n\u001b[1;32m    209\u001b[0m                 \u001b[0;32melse\u001b[0m\u001b[0;34m:\u001b[0m\u001b[0;34m\u001b[0m\u001b[0;34m\u001b[0m\u001b[0m\n\u001b[1;32m    210\u001b[0m                     \u001b[0mkwargs\u001b[0m\u001b[0;34m[\u001b[0m\u001b[0mnew_arg_name\u001b[0m\u001b[0;34m]\u001b[0m \u001b[0;34m=\u001b[0m \u001b[0mnew_arg_value\u001b[0m\u001b[0;34m\u001b[0m\u001b[0;34m\u001b[0m\u001b[0m\n\u001b[0;32m--> 211\u001b[0;31m             \u001b[0;32mreturn\u001b[0m \u001b[0mfunc\u001b[0m\u001b[0;34m(\u001b[0m\u001b[0;34m*\u001b[0m\u001b[0margs\u001b[0m\u001b[0;34m,\u001b[0m \u001b[0;34m**\u001b[0m\u001b[0mkwargs\u001b[0m\u001b[0;34m)\u001b[0m\u001b[0;34m\u001b[0m\u001b[0;34m\u001b[0m\u001b[0m\n\u001b[0m\u001b[1;32m    212\u001b[0m \u001b[0;34m\u001b[0m\u001b[0m\n\u001b[1;32m    213\u001b[0m         \u001b[0;32mreturn\u001b[0m \u001b[0mcast\u001b[0m\u001b[0;34m(\u001b[0m\u001b[0mF\u001b[0m\u001b[0;34m,\u001b[0m \u001b[0mwrapper\u001b[0m\u001b[0;34m)\u001b[0m\u001b[0;34m\u001b[0m\u001b[0;34m\u001b[0m\u001b[0m\n",
      "\u001b[0;32m/usr/local/lib/python3.10/dist-packages/pandas/util/_decorators.py\u001b[0m in \u001b[0;36mwrapper\u001b[0;34m(*args, **kwargs)\u001b[0m\n\u001b[1;32m    329\u001b[0m                     \u001b[0mstacklevel\u001b[0m\u001b[0;34m=\u001b[0m\u001b[0mfind_stack_level\u001b[0m\u001b[0;34m(\u001b[0m\u001b[0;34m)\u001b[0m\u001b[0;34m,\u001b[0m\u001b[0;34m\u001b[0m\u001b[0;34m\u001b[0m\u001b[0m\n\u001b[1;32m    330\u001b[0m                 )\n\u001b[0;32m--> 331\u001b[0;31m             \u001b[0;32mreturn\u001b[0m \u001b[0mfunc\u001b[0m\u001b[0;34m(\u001b[0m\u001b[0;34m*\u001b[0m\u001b[0margs\u001b[0m\u001b[0;34m,\u001b[0m \u001b[0;34m**\u001b[0m\u001b[0mkwargs\u001b[0m\u001b[0;34m)\u001b[0m\u001b[0;34m\u001b[0m\u001b[0;34m\u001b[0m\u001b[0m\n\u001b[0m\u001b[1;32m    332\u001b[0m \u001b[0;34m\u001b[0m\u001b[0m\n\u001b[1;32m    333\u001b[0m         \u001b[0;31m# error: \"Callable[[VarArg(Any), KwArg(Any)], Any]\" has no\u001b[0m\u001b[0;34m\u001b[0m\u001b[0;34m\u001b[0m\u001b[0m\n",
      "\u001b[0;32m/usr/local/lib/python3.10/dist-packages/pandas/io/parsers/readers.py\u001b[0m in \u001b[0;36mread_csv\u001b[0;34m(filepath_or_buffer, sep, delimiter, header, names, index_col, usecols, squeeze, prefix, mangle_dupe_cols, dtype, engine, converters, true_values, false_values, skipinitialspace, skiprows, skipfooter, nrows, na_values, keep_default_na, na_filter, verbose, skip_blank_lines, parse_dates, infer_datetime_format, keep_date_col, date_parser, dayfirst, cache_dates, iterator, chunksize, compression, thousands, decimal, lineterminator, quotechar, quoting, doublequote, escapechar, comment, encoding, encoding_errors, dialect, error_bad_lines, warn_bad_lines, on_bad_lines, delim_whitespace, low_memory, memory_map, float_precision, storage_options)\u001b[0m\n\u001b[1;32m    948\u001b[0m     \u001b[0mkwds\u001b[0m\u001b[0;34m.\u001b[0m\u001b[0mupdate\u001b[0m\u001b[0;34m(\u001b[0m\u001b[0mkwds_defaults\u001b[0m\u001b[0;34m)\u001b[0m\u001b[0;34m\u001b[0m\u001b[0;34m\u001b[0m\u001b[0m\n\u001b[1;32m    949\u001b[0m \u001b[0;34m\u001b[0m\u001b[0m\n\u001b[0;32m--> 950\u001b[0;31m     \u001b[0;32mreturn\u001b[0m \u001b[0m_read\u001b[0m\u001b[0;34m(\u001b[0m\u001b[0mfilepath_or_buffer\u001b[0m\u001b[0;34m,\u001b[0m \u001b[0mkwds\u001b[0m\u001b[0;34m)\u001b[0m\u001b[0;34m\u001b[0m\u001b[0;34m\u001b[0m\u001b[0m\n\u001b[0m\u001b[1;32m    951\u001b[0m \u001b[0;34m\u001b[0m\u001b[0m\n\u001b[1;32m    952\u001b[0m \u001b[0;34m\u001b[0m\u001b[0m\n",
      "\u001b[0;32m/usr/local/lib/python3.10/dist-packages/pandas/io/parsers/readers.py\u001b[0m in \u001b[0;36m_read\u001b[0;34m(filepath_or_buffer, kwds)\u001b[0m\n\u001b[1;32m    603\u001b[0m \u001b[0;34m\u001b[0m\u001b[0m\n\u001b[1;32m    604\u001b[0m     \u001b[0;31m# Create the parser.\u001b[0m\u001b[0;34m\u001b[0m\u001b[0;34m\u001b[0m\u001b[0m\n\u001b[0;32m--> 605\u001b[0;31m     \u001b[0mparser\u001b[0m \u001b[0;34m=\u001b[0m \u001b[0mTextFileReader\u001b[0m\u001b[0;34m(\u001b[0m\u001b[0mfilepath_or_buffer\u001b[0m\u001b[0;34m,\u001b[0m \u001b[0;34m**\u001b[0m\u001b[0mkwds\u001b[0m\u001b[0;34m)\u001b[0m\u001b[0;34m\u001b[0m\u001b[0;34m\u001b[0m\u001b[0m\n\u001b[0m\u001b[1;32m    606\u001b[0m \u001b[0;34m\u001b[0m\u001b[0m\n\u001b[1;32m    607\u001b[0m     \u001b[0;32mif\u001b[0m \u001b[0mchunksize\u001b[0m \u001b[0;32mor\u001b[0m \u001b[0miterator\u001b[0m\u001b[0;34m:\u001b[0m\u001b[0;34m\u001b[0m\u001b[0;34m\u001b[0m\u001b[0m\n",
      "\u001b[0;32m/usr/local/lib/python3.10/dist-packages/pandas/io/parsers/readers.py\u001b[0m in \u001b[0;36m__init__\u001b[0;34m(self, f, engine, **kwds)\u001b[0m\n\u001b[1;32m   1440\u001b[0m \u001b[0;34m\u001b[0m\u001b[0m\n\u001b[1;32m   1441\u001b[0m         \u001b[0mself\u001b[0m\u001b[0;34m.\u001b[0m\u001b[0mhandles\u001b[0m\u001b[0;34m:\u001b[0m \u001b[0mIOHandles\u001b[0m \u001b[0;34m|\u001b[0m \u001b[0;32mNone\u001b[0m \u001b[0;34m=\u001b[0m \u001b[0;32mNone\u001b[0m\u001b[0;34m\u001b[0m\u001b[0;34m\u001b[0m\u001b[0m\n\u001b[0;32m-> 1442\u001b[0;31m         \u001b[0mself\u001b[0m\u001b[0;34m.\u001b[0m\u001b[0m_engine\u001b[0m \u001b[0;34m=\u001b[0m \u001b[0mself\u001b[0m\u001b[0;34m.\u001b[0m\u001b[0m_make_engine\u001b[0m\u001b[0;34m(\u001b[0m\u001b[0mf\u001b[0m\u001b[0;34m,\u001b[0m \u001b[0mself\u001b[0m\u001b[0;34m.\u001b[0m\u001b[0mengine\u001b[0m\u001b[0;34m)\u001b[0m\u001b[0;34m\u001b[0m\u001b[0;34m\u001b[0m\u001b[0m\n\u001b[0m\u001b[1;32m   1443\u001b[0m \u001b[0;34m\u001b[0m\u001b[0m\n\u001b[1;32m   1444\u001b[0m     \u001b[0;32mdef\u001b[0m \u001b[0mclose\u001b[0m\u001b[0;34m(\u001b[0m\u001b[0mself\u001b[0m\u001b[0;34m)\u001b[0m \u001b[0;34m->\u001b[0m \u001b[0;32mNone\u001b[0m\u001b[0;34m:\u001b[0m\u001b[0;34m\u001b[0m\u001b[0;34m\u001b[0m\u001b[0m\n",
      "\u001b[0;32m/usr/local/lib/python3.10/dist-packages/pandas/io/parsers/readers.py\u001b[0m in \u001b[0;36m_make_engine\u001b[0;34m(self, f, engine)\u001b[0m\n\u001b[1;32m   1733\u001b[0m                 \u001b[0;32mif\u001b[0m \u001b[0;34m\"b\"\u001b[0m \u001b[0;32mnot\u001b[0m \u001b[0;32min\u001b[0m \u001b[0mmode\u001b[0m\u001b[0;34m:\u001b[0m\u001b[0;34m\u001b[0m\u001b[0;34m\u001b[0m\u001b[0m\n\u001b[1;32m   1734\u001b[0m                     \u001b[0mmode\u001b[0m \u001b[0;34m+=\u001b[0m \u001b[0;34m\"b\"\u001b[0m\u001b[0;34m\u001b[0m\u001b[0;34m\u001b[0m\u001b[0m\n\u001b[0;32m-> 1735\u001b[0;31m             self.handles = get_handle(\n\u001b[0m\u001b[1;32m   1736\u001b[0m                 \u001b[0mf\u001b[0m\u001b[0;34m,\u001b[0m\u001b[0;34m\u001b[0m\u001b[0;34m\u001b[0m\u001b[0m\n\u001b[1;32m   1737\u001b[0m                 \u001b[0mmode\u001b[0m\u001b[0;34m,\u001b[0m\u001b[0;34m\u001b[0m\u001b[0;34m\u001b[0m\u001b[0m\n",
      "\u001b[0;32m/usr/local/lib/python3.10/dist-packages/pandas/io/common.py\u001b[0m in \u001b[0;36mget_handle\u001b[0;34m(path_or_buf, mode, encoding, compression, memory_map, is_text, errors, storage_options)\u001b[0m\n\u001b[1;32m    854\u001b[0m         \u001b[0;32mif\u001b[0m \u001b[0mioargs\u001b[0m\u001b[0;34m.\u001b[0m\u001b[0mencoding\u001b[0m \u001b[0;32mand\u001b[0m \u001b[0;34m\"b\"\u001b[0m \u001b[0;32mnot\u001b[0m \u001b[0;32min\u001b[0m \u001b[0mioargs\u001b[0m\u001b[0;34m.\u001b[0m\u001b[0mmode\u001b[0m\u001b[0;34m:\u001b[0m\u001b[0;34m\u001b[0m\u001b[0;34m\u001b[0m\u001b[0m\n\u001b[1;32m    855\u001b[0m             \u001b[0;31m# Encoding\u001b[0m\u001b[0;34m\u001b[0m\u001b[0;34m\u001b[0m\u001b[0m\n\u001b[0;32m--> 856\u001b[0;31m             handle = open(\n\u001b[0m\u001b[1;32m    857\u001b[0m                 \u001b[0mhandle\u001b[0m\u001b[0;34m,\u001b[0m\u001b[0;34m\u001b[0m\u001b[0;34m\u001b[0m\u001b[0m\n\u001b[1;32m    858\u001b[0m                 \u001b[0mioargs\u001b[0m\u001b[0;34m.\u001b[0m\u001b[0mmode\u001b[0m\u001b[0;34m,\u001b[0m\u001b[0;34m\u001b[0m\u001b[0;34m\u001b[0m\u001b[0m\n",
      "\u001b[0;31mFileNotFoundError\u001b[0m: [Errno 2] No such file or directory: '/home/herman/Downloads/HadCRUT.4.6.0.0.monthly_ns_avg.txt'"
     ]
    }
   ],
   "source": [
    "### FIRST MOVE TO DIRECTORY WHERE THE DATA IS SAVED (edit accord to your download)\n",
    "\n",
    "### OPEN THE GLOBAL MEAN TEMPERATURE FILE INTO DATAFRAME modify for your filename\n",
    "\n",
    "hadcrut = pd.read_csv(\n",
    "    \"/home/herman/Downloads/HadCRUT.4.6.0.0.monthly_ns_avg.txt\",\n",
    "    delim_whitespace=True,\n",
    "    usecols=[0, 1],\n",
    "    header=None)\n"
   ]
  },
  {
   "cell_type": "markdown",
   "metadata": {
    "id": "phgKhHgo6lf4"
   },
   "source": [
    "# New Section"
   ]
  },
  {
   "cell_type": "markdown",
   "metadata": {
    "id": "Grm2AFcj6mH5"
   },
   "source": [
    "# New Section"
   ]
  },
  {
   "cell_type": "code",
   "execution_count": null,
   "metadata": {
    "id": "Rvhvb3fDJNOO"
   },
   "outputs": [],
   "source": [
    "### LOOK AT FILE TO SEE WHAT YOU HAVE OPENED\n",
    "hadcrut.head()\n"
   ]
  },
  {
   "cell_type": "code",
   "execution_count": null,
   "metadata": {
    "id": "rBBKKt21JTCv"
   },
   "outputs": [],
   "source": [
    "\n",
    "### SPLIT FIRST COLUM OF DATA INTO YEAR AND MONTH AND ADD AS COORDINATED\n",
    "### DESCRIPTORS, year & month, TO DATAFRAME\n",
    "hadcrut['year'] = hadcrut.iloc[:, 0].apply(lambda x: x.split(\"/\")[0]).astype(int)\n",
    "hadcrut['month'] = hadcrut.iloc[:, 0].apply(lambda x: x.split(\"/\")[1]).astype(int)\n",
    "### RENAME SECOND COLUMN (INDEX=1) TO value\n",
    "hadcrut = hadcrut.rename(columns={1: \"value\"})\n",
    "hadcrut = hadcrut.iloc[:, 1:]\n"
   ]
  },
  {
   "cell_type": "code",
   "execution_count": null,
   "metadata": {
    "id": "iSrKYe3dJXPC"
   },
   "outputs": [],
   "source": [
    "### LOOK AT FILE TO SEE CHANGES\n",
    "hadcrut.head()\n"
   ]
  },
  {
   "cell_type": "code",
   "execution_count": null,
   "metadata": {
    "id": "iGAOUe6rJdSG"
   },
   "outputs": [],
   "source": [
    "### DROP ALL 2018 DATA FROM DATAFRAME (SINCE DON'T HAVE FULL YEAR YET)\n",
    "hadcrut = hadcrut.drop(hadcrut[hadcrut['year'] == 2018].index)\n",
    "hadcrut = hadcrut.set_index(['year', 'month'])\n"
   ]
  },
  {
   "cell_type": "code",
   "execution_count": null,
   "metadata": {
    "id": "FuwJ99rHJidT"
   },
   "outputs": [],
   "source": [
    "### OBTAIN PRE-1900 MEAN TEMPERATURE AND REMOVE FROM DATASET\n",
    "hadcrut -= hadcrut.loc[1850:1900].mean()\n",
    "hadcrut = hadcrut.reset_index()\n"
   ]
  },
  {
   "cell_type": "code",
   "execution_count": null,
   "metadata": {
    "id": "gaxZufwnJmAD"
   },
   "outputs": [],
   "source": [
    "\n",
    "### SET UP FIGURE AXES\n",
    "fig = plt.figure(figsize=(8,8))\n",
    "ax1 = plt.subplot(111, projection='polar')\n",
    "### LETS PLOT DATA FOR 1985 FIRST\n",
    "hc_1850 = hadcrut[hadcrut['year'] == 1850]\n",
    "# specify radial distance of each point using temp. from months in 1850\n",
    "r = hc_1850['value'] + 1 # Add 1 just to make plot work better\n",
    "theta = np.linspace(0, 2*np.pi, 12) # Specify angle so that each month\n",
    "# is plotted 1/12th of the way around the circle, to complete rotation\n",
    "ax1.plot(theta, r)\n",
    "### REMOVE AXES TICK LABELS FOR  A BETTER PLOT\n",
    "ax1.axes.get_yaxis().set_ticklabels([])\n",
    "ax1.axes.get_xaxis().set_ticklabels([])\n",
    "### CHANGE COLORS OF THE FACE OF PLOT AND BACKGROUND\n",
    "fig.set_facecolor(\"#323331\")\n",
    "ax1.set_facecolor('#000100')\n",
    "### LETS ADD AXES TITLE\n",
    "ax1.set_title(\"Global Temperature Change (1850-2017)\", color='white', fontdict={'fontsize': 30})\n",
    "ax1.text(0,0,\"1850\", color='white', size=30, ha='center')\n"
   ]
  },
  {
   "cell_type": "code",
   "execution_count": null,
   "metadata": {
    "id": "YBeH3TeiJ9kZ"
   },
   "outputs": [],
   "source": [
    "### NOW LETS PLOT ALL YEARS\n",
    "fig = plt.figure(figsize=(14,14))\n",
    "ax1 = plt.subplot(111, projection='polar')\n",
    "ax1.axes.get_yaxis().set_ticklabels([])\n",
    "ax1.axes.get_xaxis().set_ticklabels([])\n",
    "fig.set_facecolor(\"#323331\")\n",
    "ax1.set_facecolor('#000100')\n",
    "ax1.set_ylim(0, 3.25) # broaden axes to ensure all years will fit in plot\n",
    "theta = np.linspace(0, 2*np.pi, 12)\n",
    "ax1.set_title(\"Global Temperature\\nChange (1850-2017)\",color='white', fontdict={'fontsize': 20})\n",
    "years = hadcrut['year'].unique() # GET AN ARRAY OF EACH YEAR IN DATAFRAME\n"
   ]
  },
  {
   "cell_type": "code",
   "execution_count": null,
   "metadata": {
    "id": "DYNTpYtCKA_a"
   },
   "outputs": [],
   "source": [
    "### LOOP THROUGH ALL YEARS IN DATAFRAME, PLOT ALL THE MONTHS IN EACH YEAR\n",
    "for year in years:\n",
    "    r = hadcrut[hadcrut['year'] == year]['value'] + 1\n",
    "    #ax1.text(0,0, str(year), color='white', size=30, ha='center')\n",
    "    ax1.plot(theta, r)\n"
   ]
  },
  {
   "cell_type": "code",
   "execution_count": null,
   "metadata": {
    "id": "lz8AOnB3KE8v"
   },
   "outputs": [],
   "source": [
    "### WHAT A MESS, LETS IMPROVE THIS BY CHANGING LINE COLOR FROM DEFAULT TO THE VIRIDIS COLORMAP\n",
    "fig = plt.figure(figsize=(14,14))\n",
    "ax1 = plt.subplot(111, projection='polar')\n",
    "ax1.axes.get_yaxis().set_ticklabels([]);ax1.axes.get_xaxis().set_ticklabels([])\n",
    "fig.set_facecolor(\"#323331\")\n",
    "ax1.set_title(\"Global Temperature Change (1850-2017)\",\\\n",
    "                   color='white', fontdict={'fontsize': 20})\n",
    "ax1.set_facecolor('#000100')\n",
    "for index, year in enumerate(years):\n",
    "    r = hadcrut[hadcrut['year'] == year]['value'] + 1\n",
    "    theta = np.linspace(0, 2*np.pi, 12)\n",
    "    ax1.grid(False)\n",
    "    ax1.set_ylim(0, 3.25)\n",
    "    # Here is where we specify a better color using a colormap\n",
    "    ax1.plot(theta, r, c=plt.cm.viridis(index*2))\n"
   ]
  },
  {
   "cell_type": "code",
   "execution_count": null,
   "metadata": {
    "id": "4HORhyYjKJmN"
   },
   "outputs": [],
   "source": [
    "### NOW TO ADD SOME REFERENCE TEMPERATURES TO AID INTERPRETATION OF FIGURE\n",
    "full_circle_thetas = np.linspace(0, 2*np.pi, 1000)\n",
    "blue_line_one_radii = [1.0]*1000\n",
    "red_line_one_radii = [2.5]*1000\n",
    "red_line_two_radii = [3.0]*1000\n",
    "ax1.plot(full_circle_thetas, blue_line_one_radii, c='blue')\n",
    "ax1.plot(full_circle_thetas, red_line_one_radii, c='red')\n",
    "ax1.plot(full_circle_thetas, red_line_two_radii, c='red')\n",
    "ax1.text(np.pi/2,1.0,\"0.0C\",color=\"blue\",ha='center',fontdict={'fontsize':20})\n",
    "ax1.text(np.pi/2,2.5,\"1.5C\",color=\"red\",ha='center',fontdict={'fontsize':20})\n",
    "ax1.text(np.pi/2,3.0,\"2.0C\",color=\"red\",ha='center',fontdict={'fontsize':20})\n"
   ]
  }
 ],
 "metadata": {
  "colab": {
   "authorship_tag": "ABX9TyO7mKYBWHz+XVn8Rzu6TGos",
   "provenance": []
  },
  "kernelspec": {
   "display_name": "Python 3 (ipykernel)",
   "language": "python",
   "name": "python3"
  },
  "language_info": {
   "codemirror_mode": {
    "name": "ipython",
    "version": 3
   },
   "file_extension": ".py",
   "mimetype": "text/x-python",
   "name": "python",
   "nbconvert_exporter": "python",
   "pygments_lexer": "ipython3",
   "version": "3.11.2"
  }
 },
 "nbformat": 4,
 "nbformat_minor": 1
}
