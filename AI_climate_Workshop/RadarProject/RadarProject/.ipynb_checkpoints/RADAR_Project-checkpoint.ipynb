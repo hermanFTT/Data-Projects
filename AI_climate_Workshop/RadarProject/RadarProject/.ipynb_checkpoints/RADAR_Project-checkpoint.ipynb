{
 "cells": [
  {
   "cell_type": "markdown",
   "id": "confused-cedar",
   "metadata": {},
   "source": [
    "# Project: Correct Rainfall amount from Rain Radar\n",
    "\n",
    "\n",
    "### In this Notebook we will use a Neural Network to correct the rainfall amount derived by an indirect measurement i.e. Radar Reflectivity.\n",
    "\n",
    "The standard method to derive precipitation amount at the ground from radar reflectivities is to use a Z/R relationship.\n",
    "However, the calculated rainfall is not exactly displaying the observed amount of ground measurements.\n",
    "\n",
    "We will try to correct the bias by using a Neural Network.\n",
    "First we will load the necessary Python Packages..."
   ]
  },
  {
   "cell_type": "code",
   "execution_count": 1,
   "id": "fatty-advancement",
   "metadata": {},
   "outputs": [],
   "source": [
    "import pandas as pd\n",
    "import numpy as np\n",
    "import matplotlib as mpl\n",
    "from matplotlib import pyplot as plt\n",
    "from IPython.display import clear_output\n",
    "\n",
    "get_ipython().run_line_magic('matplotlib', 'inline')\n",
    "\n",
    "import scipy as sc\n",
    "import math as ma\n",
    "from scipy import linalg, optimize, constants, interpolate, special, stats\n",
    "from math import exp, pow, sqrt, log\n",
    "\n",
    "import seaborn as sns\n",
    "import statsmodels.api as sm\n",
    "import statsmodels.stats.api as sms\n",
    "\n",
    "from sklearn.preprocessing import StandardScaler\n",
    "from sklearn.metrics import mean_squared_error, classification_report, accuracy_score, confusion_matrix\n",
    "from sklearn.model_selection import train_test_split\n",
    "\n",
    "import tensorflow\n",
    "from tensorflow import keras\n",
    "from tensorflow.keras import datasets, layers, models, utils\n",
    "\n",
    "from keras import layers\n",
    "from keras.models import Model, Sequential\n",
    "from keras.layers import Input, Dense, Dropout, Conv2D, MaxPooling2D, UpSampling2D, Flatten, Reshape, Activation\n",
    "from keras import regularizers\n",
    "from keras.models import Sequential\n",
    "from keras import backend as K\n",
    "from keras.callbacks import ReduceLROnPlateau, EarlyStopping\n",
    "\n",
    "from keras.optimizers import SGD, Adadelta, Adagrad, RMSprop, Adam\n",
    "\n",
    "from keras.utils import to_categorical\n",
    "\n",
    "\n"
   ]
  },
  {
   "cell_type": "markdown",
   "id": "disabled-sleep",
   "metadata": {},
   "source": [
    "updatable plot to visualize the loss function during training of a Neural Network model"
   ]
  },
  {
   "cell_type": "code",
   "execution_count": 2,
   "id": "loose-convenience",
   "metadata": {},
   "outputs": [],
   "source": [
    "# updatable plot\n",
    "# a minimal example (sort of)\n",
    "from IPython.display import clear_output\n",
    "class PlotLosses(keras.callbacks.Callback):\n",
    "    def on_train_begin(self, logs={}):\n",
    "        self.i = 0\n",
    "        self.x = []\n",
    "        self.losses = []\n",
    "        self.val_losses = []\n",
    "        \n",
    "        self.fig = plt.figure()\n",
    "        \n",
    "        self.logs = []\n",
    "\n",
    "    def on_epoch_end(self, epoch, logs={}):\n",
    "        \n",
    "        self.logs.append(logs)\n",
    "        self.x.append(self.i)\n",
    "        self.losses.append(logs.get('loss'))\n",
    "        self.val_losses.append(logs.get('val_loss'))\n",
    "        self.i += 1\n",
    "        \n",
    "        clear_output(wait=True)\n",
    "        plt.plot(self.x, self.losses, label=\"loss\")\n",
    "        plt.plot(self.x, self.val_losses, label=\"val_loss\")\n",
    "        plt.legend()\n",
    "        plt.show();\n",
    "        \n",
    "plot_losses = PlotLosses()\n"
   ]
  },
  {
   "cell_type": "markdown",
   "id": "equal-roommate",
   "metadata": {},
   "source": [
    "## 1.) Data Preparation and Benchmark"
   ]
  },
  {
   "cell_type": "markdown",
   "id": "mexican-orlando",
   "metadata": {},
   "source": [
    "Now we load a test dataset.  \n",
    "\n",
    "It contains Radar Reflectivities (REFLECTIVITY) from a weather radar in a grid cell where ground observations (GROUND) exist.\n",
    "\n",
    "To load the data we use the pandas function\n",
    "\n",
    "    read_csv('path to dataset')\n"
   ]
  },
  {
   "cell_type": "code",
   "execution_count": 3,
   "id": "eleven-mattress",
   "metadata": {},
   "outputs": [
    {
     "data": {
      "text/html": [
       "<div>\n",
       "<style scoped>\n",
       "    .dataframe tbody tr th:only-of-type {\n",
       "        vertical-align: middle;\n",
       "    }\n",
       "\n",
       "    .dataframe tbody tr th {\n",
       "        vertical-align: top;\n",
       "    }\n",
       "\n",
       "    .dataframe thead th {\n",
       "        text-align: right;\n",
       "    }\n",
       "</style>\n",
       "<table border=\"1\" class=\"dataframe\">\n",
       "  <thead>\n",
       "    <tr style=\"text-align: right;\">\n",
       "      <th></th>\n",
       "      <th>Unnamed: 0</th>\n",
       "      <th>index</th>\n",
       "      <th>MESS_DATUM</th>\n",
       "      <th>REFLECTIVITY</th>\n",
       "      <th>GROUND</th>\n",
       "    </tr>\n",
       "  </thead>\n",
       "  <tbody>\n",
       "    <tr>\n",
       "      <th>0</th>\n",
       "      <td>0</td>\n",
       "      <td>4</td>\n",
       "      <td>2015-05-01 07:00:00</td>\n",
       "      <td>183.739594</td>\n",
       "      <td>1.0</td>\n",
       "    </tr>\n",
       "    <tr>\n",
       "      <th>1</th>\n",
       "      <td>1</td>\n",
       "      <td>5</td>\n",
       "      <td>2015-05-01 08:00:00</td>\n",
       "      <td>87.625786</td>\n",
       "      <td>0.5</td>\n",
       "    </tr>\n",
       "    <tr>\n",
       "      <th>2</th>\n",
       "      <td>2</td>\n",
       "      <td>6</td>\n",
       "      <td>2015-05-01 09:00:00</td>\n",
       "      <td>87.754196</td>\n",
       "      <td>0.4</td>\n",
       "    </tr>\n",
       "    <tr>\n",
       "      <th>3</th>\n",
       "      <td>3</td>\n",
       "      <td>7</td>\n",
       "      <td>2015-05-01 10:00:00</td>\n",
       "      <td>154.573288</td>\n",
       "      <td>0.5</td>\n",
       "    </tr>\n",
       "    <tr>\n",
       "      <th>4</th>\n",
       "      <td>4</td>\n",
       "      <td>8</td>\n",
       "      <td>2015-05-01 11:00:00</td>\n",
       "      <td>131.241669</td>\n",
       "      <td>0.5</td>\n",
       "    </tr>\n",
       "  </tbody>\n",
       "</table>\n",
       "</div>"
      ],
      "text/plain": [
       "   Unnamed: 0  index           MESS_DATUM  REFLECTIVITY  GROUND\n",
       "0           0      4  2015-05-01 07:00:00    183.739594     1.0\n",
       "1           1      5  2015-05-01 08:00:00     87.625786     0.5\n",
       "2           2      6  2015-05-01 09:00:00     87.754196     0.4\n",
       "3           3      7  2015-05-01 10:00:00    154.573288     0.5\n",
       "4           4      8  2015-05-01 11:00:00    131.241669     0.5"
      ]
     },
     "execution_count": 3,
     "metadata": {},
     "output_type": "execute_result"
    }
   ],
   "source": [
    "#Import the data\n",
    "Hohenp = pd.read_csv('Data/Hohenp1h.csv')\n",
    "#Hohenp = Hohenp.drop('index', 1)\n",
    "#Hohenp.reset_index()\n",
    "Hohenp.head()"
   ]
  },
  {
   "cell_type": "markdown",
   "id": "brilliant-giant",
   "metadata": {},
   "source": [
    "The idea is now to use the reflectivity as input for a Neural network that has the ground observations as target.  \n",
    "The NN model can then be interpreted as a transfer function which is suitable to calculate adequate rainfall amounts on the ground from reflectivities above.  \n",
    "\n",
    "So we first extract the ground observations and the reflectivities from the dataset."
   ]
  },
  {
   "cell_type": "code",
   "execution_count": 4,
   "id": "expressed-pricing",
   "metadata": {},
   "outputs": [
    {
     "data": {
      "text/plain": [
       "array([1.83739594e+02, 8.76257858e+01, 8.77541962e+01, ...,\n",
       "       1.20000010e-02, 1.20000010e-02, 1.20000010e-02])"
      ]
     },
     "execution_count": 4,
     "metadata": {},
     "output_type": "execute_result"
    }
   ],
   "source": [
    "gr = np.array(Hohenp['GROUND'])\n",
    "ref = np.array(Hohenp['REFLECTIVITY'])\n",
    "ref"
   ]
  },
  {
   "cell_type": "markdown",
   "id": "magnetic-harvey",
   "metadata": {},
   "source": [
    "We use the standard Z-R relationship (used by the German Weather service) to derive the benchmark rain amount from measured reflectivities.\n",
    "\n",
    "We will use the resulting precipitation amount as a benchmark to compare the performance of our Neural Network model witrh respect to the residual bias compared to the ground observations.\n"
   ]
  },
  {
   "cell_type": "code",
   "execution_count": 5,
   "id": "colored-collect",
   "metadata": {},
   "outputs": [],
   "source": [
    "refzr = np.power(ref/256, (1.0 / 1.42))"
   ]
  },
  {
   "cell_type": "code",
   "execution_count": 6,
   "id": "manual-block",
   "metadata": {},
   "outputs": [
    {
     "data": {
      "text/plain": [
       "array([[1.        , 0.63594825],\n",
       "       [0.63594825, 1.        ]])"
      ]
     },
     "execution_count": 6,
     "metadata": {},
     "output_type": "execute_result"
    }
   ],
   "source": [
    "# Correlation between Z-R and ground\n",
    "np.corrcoef(refzr,gr)"
   ]
  },
  {
   "cell_type": "markdown",
   "id": "hairy-independence",
   "metadata": {},
   "source": [
    "Let's visualize the Z/R-Precipitaion with the observed ground measurements.\n",
    "\n",
    "We use the Python library matplotlib\n",
    "\n",
    "The function\n",
    "\n",
    "    plot(x-values, y-values, Options)\n",
    "\n",
    "generates a scatter plot of Ground vs Z/R (Radar)"
   ]
  },
  {
   "cell_type": "code",
   "execution_count": 7,
   "id": "civic-split",
   "metadata": {},
   "outputs": [
    {
     "data": {
      "image/png": "[encoded data removed]",
      "text/plain": [
       "<Figure size 480x480 with 1 Axes>"
      ]
     },
     "metadata": {
      "needs_background": "light"
     },
     "output_type": "display_data"
    }
   ],
   "source": [
    "fig=plt.figure(figsize=(6, 6), dpi=80)\n",
    "plt.xlim(0,6.5)\n",
    "plt.ylim(0,6.5)\n",
    "\n",
    "plt.scatter(gr,refzr,label='Ground vs. Radar Z/R ($ \\\\rho $=0.63)');\n",
    "plt.plot(gr,gr,'-',color='black',label='perfect fit');\n",
    "plt.xlabel('Ground [mm/h]', size=16);\n",
    "plt.ylabel('Radar [mm/h]', size=16);\n",
    "#plt.title('Hourly Data', size=18);\n",
    "plt.legend(loc='upper left');\n",
    "\n",
    "#fig.savefig('Plots/Scatter_Hourly_AllData.pdf', dpi=80)"
   ]
  },
  {
   "cell_type": "markdown",
   "id": "former-right",
   "metadata": {},
   "source": [
    "The black line indicates a \"perfect Fit\".\n",
    "That means in the case that the precipitation value calculated from the radar is exactly matching the ground observation, the resulting point in the scatter plot would lie on the black line.\n",
    "\n",
    "Ground = Z-R Precip\n",
    "\n",
    "However, we see that the Z-R relationship is able to reconstruct the overall structure but there are many examples where the ground rainfall is over-, or underestimated.  \n",
    "\n",
    "Especially for larger precipitaion values the deviation can be quite large.\n",
    "\n",
    "As an overall quality measure we can calculate the Pearson Correlation between Ground and Z-R Rainfall amounts.\n",
    "\n",
    "We find that:  \n",
    "\n",
    "$\\rho = 0.63$\n",
    "\n",
    "That means we have a moderate positive (linear) correlation for the complete dataset."
   ]
  },
  {
   "cell_type": "markdown",
   "id": "charming-edmonton",
   "metadata": {},
   "source": [
    "Another very important performance measure is the bias of a model.  \n",
    "\n",
    "That means the deviation between the mean of the model output and the mean of the target values.\n",
    "\n",
    "$𝐵𝑖𝑎𝑠=𝑚𝑒𝑎𝑛(𝑜𝑢𝑡𝑝𝑢𝑡)−𝑚𝑒𝑎𝑛(𝑔𝑟𝑜𝑢𝑛𝑑)$"
   ]
  },
  {
   "cell_type": "code",
   "execution_count": 8,
   "id": "portuguese-russell",
   "metadata": {},
   "outputs": [
    {
     "name": "stdout",
     "output_type": "stream",
     "text": [
      "bias: 0.05522979622961052 MSE: 1.1645797558435005 corr: 0.6359482497355617\n"
     ]
    }
   ],
   "source": [
    "MSE_ZR=mean_squared_error(refzr,gr)\n",
    "\n",
    "bias_ZR=np.mean(refzr)-np.mean(gr)\n",
    "corr_ZR=np.corrcoef(refzr,gr)[0,1]\n",
    "print('bias:',bias_ZR,\n",
    "      'MSE:',MSE_ZR,\n",
    "     'corr:',corr_ZR)"
   ]
  },
  {
   "cell_type": "markdown",
   "id": "three-agency",
   "metadata": {},
   "source": [
    "A time series plot shows in detail how the estimated and true rainfall amounts look like:"
   ]
  },
  {
   "cell_type": "code",
   "execution_count": 9,
   "id": "smoking-first",
   "metadata": {},
   "outputs": [
    {
     "data": {
      "image/png": "[encoded data removed]",
      "text/plain": [
       "<Figure size 720x360 with 1 Axes>"
      ]
     },
     "metadata": {
      "needs_background": "light"
     },
     "output_type": "display_data"
    }
   ],
   "source": [
    "fig=plt.figure(figsize=(10, 5))\n",
    "\n",
    "plt.plot(gr,'orangered',label='Ground')\n",
    "plt.plot(refzr,'royalblue',label='Radar (Z/R), $ \\\\rho$=0.63')\n",
    "\n",
    "plt.ylabel('Precipitation [mm/h]', size=16)\n",
    "plt.xlabel(' #Time Step', size=16) \n",
    "#plt.title('Hohenpeissenberg (Hourly Data)', size=18)\n",
    "plt.legend(loc='upper left');\n",
    "plt.show()\n",
    "\n",
    "fig.savefig('Plots/Ref_Hourly_AllData.pdf', dpi=80)"
   ]
  },
  {
   "cell_type": "markdown",
   "id": "focal-collins",
   "metadata": {},
   "source": [
    "It seems that the Z-R-relationship especially fails for extreme values.  \n",
    "\n",
    "In these cases the true rainfall amount is significantly underestimated!"
   ]
  },
  {
   "cell_type": "markdown",
   "id": "accompanied-jason",
   "metadata": {},
   "source": [
    "Let's hope that the Neural Network can do a better Job! :-)"
   ]
  },
  {
   "cell_type": "markdown",
   "id": "cheap-magic",
   "metadata": {},
   "source": [
    "## 2.) A simple Neural Network Model for Rainfall Estimation from Radar Reflectivities"
   ]
  },
  {
   "cell_type": "markdown",
   "id": "global-masters",
   "metadata": {},
   "source": [
    "### 2.1) Data Preparation\n",
    "\n",
    "To setup the Neural Network Model we have to prepare the data.  \n",
    "\n",
    "As Radar Reflectivities and Precipittation measurements have different data ranges it makes sense to standardize the data first.\n",
    "\n",
    "We use a data transformation where the data is scaled to a mean value of zero and a standard deviation of one:\n",
    "\n",
    "$X_{sc}=\\frac{X-mean(X)}{std(X)}$"
   ]
  },
  {
   "cell_type": "code",
   "execution_count": 10,
   "id": "intimate-edgar",
   "metadata": {},
   "outputs": [
    {
     "data": {
      "text/plain": [
       "(4268,)"
      ]
     },
     "execution_count": 10,
     "metadata": {},
     "output_type": "execute_result"
    }
   ],
   "source": [
    "gr_sc = (gr-np.mean(gr))/np.std(gr)\n",
    "ref_sc = (refzr-np.mean(refzr))/np.std(refzr)\n",
    "\n",
    "\n",
    "gr_sc.shape"
   ]
  },
  {
   "cell_type": "markdown",
   "id": "eight-legislation",
   "metadata": {},
   "source": [
    "...let's check if the transformation was successful :-)"
   ]
  },
  {
   "cell_type": "code",
   "execution_count": 11,
   "id": "stone-saskatchewan",
   "metadata": {},
   "outputs": [
    {
     "name": "stdout",
     "output_type": "stream",
     "text": [
      "-9.98888569484677e-18 1.6648142824744614e-17\n",
      "1.0 0.9999999999999999\n"
     ]
    }
   ],
   "source": [
    "print(np.mean(gr_sc),np.mean(ref_sc))\n",
    "print(np.std(gr_sc),np.std(ref_sc))"
   ]
  },
  {
   "cell_type": "markdown",
   "id": "quiet-instruction",
   "metadata": {},
   "source": [
    "Now we split our dataset into training (80%) and validation set (20%).  \n",
    "\n",
    "As we have a time series it is suitable to take consistent time periods for training and test."
   ]
  },
  {
   "cell_type": "code",
   "execution_count": 12,
   "id": "banned-indonesian",
   "metadata": {},
   "outputs": [
    {
     "name": "stdout",
     "output_type": "stream",
     "text": [
      "(3415,)\n"
     ]
    },
    {
     "data": {
      "image/png": "[encoded data removed]",
      "text/plain": [
       "<Figure size 432x288 with 1 Axes>"
      ]
     },
     "metadata": {
      "needs_background": "light"
     },
     "output_type": "display_data"
    }
   ],
   "source": [
    "#~20% of Data as Validation Set\n",
    "lenVal = int(len(gr_sc)*0.2)\n",
    "\n",
    "#Training\n",
    "gr_train = gr_sc[lenVal:]\n",
    "ref_train = ref_sc[lenVal:]\n",
    "\n",
    "#Validierung\n",
    "gr_val = gr_sc[:lenVal]\n",
    "ref_val = ref_sc[:lenVal]\n",
    "\n",
    "print(gr_train.shape)\n",
    "plt.plot(gr_val);"
   ]
  },
  {
   "cell_type": "code",
   "execution_count": 13,
   "id": "original-postcard",
   "metadata": {},
   "outputs": [
    {
     "name": "stdout",
     "output_type": "stream",
     "text": [
      "(3415, 1)\n"
     ]
    }
   ],
   "source": [
    "#reshape to (n,1)\n",
    "in_train = np.stack([ref_train], axis=1)\n",
    "print(in_train.shape)\n",
    "in_val = np.stack([ref_val], axis=1)"
   ]
  },
  {
   "cell_type": "markdown",
   "id": "individual-cattle",
   "metadata": {},
   "source": [
    "### 2.2) Setup of a simple 3-layer Feedforward Neural Network\n",
    "\n",
    "We use the keras\n",
    "\n",
    "    sequential()\n",
    "\n",
    "method to stack our layers.\n",
    "First layer is the input layer. Here we define the dimensions of our feature vector (input of the model).\n",
    "We specify the structure of the fully connected hidden layer (Dense) and of the output layer.\n",
    "\n",
    "In the\n",
    "\n",
    "    model.compile(options)\n",
    "\n",
    "we specify the options for training (loss function, optimizer, metrics).\n",
    "\n",
    "We use Early Stopping to prevent the model from overfitting.\n",
    "\n",
    "In the \n",
    "\n",
    "    model.fit()\n",
    "    \n",
    "we specify the meta-parameters of training like number of epochs and batch size."
   ]
  },
  {
   "cell_type": "code",
   "execution_count": 14,
   "id": "approved-governor",
   "metadata": {},
   "outputs": [
    {
     "data": {
      "image/png": "[encoded data removed]",
      "text/plain": [
       "<Figure size 432x288 with 1 Axes>"
      ]
     },
     "metadata": {
      "needs_background": "light"
     },
     "output_type": "display_data"
    },
    {
     "name": "stdout",
     "output_type": "stream",
     "text": [
      "18/18 [==============================] - 0s 10ms/step - loss: 0.7843 - mean_squared_error: 0.7843 - val_loss: 0.1313 - val_mean_squared_error: 0.1313\n",
      "853/853 [==============================] - 1s 838us/step - loss: 0.1086 - mean_squared_error: 0.1086\n"
     ]
    },
    {
     "data": {
      "text/plain": [
       "[0.1085876002907753, 0.1085876002907753]"
      ]
     },
     "execution_count": 14,
     "metadata": {},
     "output_type": "execute_result"
    }
   ],
   "source": [
    "from tensorflow.random import set_seed\n",
    "set_seed(20)\n",
    "\n",
    "# Define dimension of the Input Vector\n",
    "inputdim=1\n",
    "\n",
    "# Setup Model\n",
    "MLP1 = Sequential()\n",
    "\n",
    "# Input Layer - Input Dimension = 1\n",
    "MLP1.add(Dense(inputdim , activation='linear', input_dim=inputdim))\n",
    "\n",
    "# Fully Connected Hidden Layer with 20 Neurons and tanh activation\n",
    "MLP1.add(Dense(50 , activation='tanh'))\n",
    "#MLP1.add(Dense(10 , activation='tanh'))\n",
    "#MLP1.add(Dense(5 , activation='relu'))\n",
    "MLP1.add(Dense(1 , activation='linear'))\n",
    "\n",
    "# Define the options for the different optimizers that are suitable for training\n",
    "# SGD\n",
    "sgd = SGD(learning_rate=0.0002, momentum=0.9, nesterov=True) \n",
    "# Adadelta\n",
    "myadadelta=Adadelta(learning_rate=0.02, rho=0.95)\n",
    "# Adam\n",
    "myadam=Adam(learning_rate=0.02)\n",
    "\n",
    "# Compile model\n",
    "MLP1.compile(loss='mean_squared_error',\n",
    "                          optimizer=myadadelta,\n",
    "                          metrics=['mean_squared_error'])\n",
    "\n",
    "# Set Options for early Stopping\n",
    "# Should be used in callbacks if overfitting occurs\n",
    "# Early Stopping\n",
    "earlyStop = tensorflow.keras.callbacks.EarlyStopping(monitor='val_mean_squared_error',\n",
    "                                                     patience=150, \n",
    "                                                     restore_best_weights=True)\n",
    "# Train Model\n",
    "historyMLP1=MLP1.fit(in_train, gr_train, \n",
    "                      epochs=1000,\n",
    "                      batch_size=200,\n",
    "                      verbose=1, \n",
    "                      shuffle=True,\n",
    "                      callbacks=[plot_losses, earlyStop],\n",
    "                      validation_data=(in_val,gr_val))\n",
    "\n",
    "# Evaluate on Validation set\n",
    "scoreMLP1 = MLP1.evaluate(in_val,gr_val, batch_size=1)\n",
    "scoreMLP1"
   ]
  },
  {
   "cell_type": "markdown",
   "id": "visible-enzyme",
   "metadata": {},
   "source": [
    "The Loss curves show that the model is training well.\n",
    "\n",
    "As soon as we have trained the model we can make predictions.  "
   ]
  },
  {
   "cell_type": "markdown",
   "id": "common-green",
   "metadata": {},
   "source": [
    "### 2.3) Model Performance"
   ]
  },
  {
   "cell_type": "markdown",
   "id": "exposed-sixth",
   "metadata": {},
   "source": [
    "We check the performance on the validation set:"
   ]
  },
  {
   "cell_type": "code",
   "execution_count": 15,
   "id": "cutting-generation",
   "metadata": {},
   "outputs": [
    {
     "name": "stdout",
     "output_type": "stream",
     "text": [
      "27/27 [==============================] - 0s 963us/step\n"
     ]
    }
   ],
   "source": [
    "data_out_usc = MLP1.predict(in_val)\n",
    "MLP1_out_sc = data_out_usc*np.std(gr)+np.mean(gr)\n",
    "#negativwerte entfernen\n",
    "MLP1_out = np.where(MLP1_out_sc < 0, 0, MLP1_out_sc)"
   ]
  },
  {
   "cell_type": "code",
   "execution_count": 16,
   "id": "postal-inclusion",
   "metadata": {},
   "outputs": [
    {
     "data": {
      "image/png": "[encoded data removed]",
      "text/plain": [
       "<Figure size 720x360 with 1 Axes>"
      ]
     },
     "metadata": {
      "needs_background": "light"
     },
     "output_type": "display_data"
    }
   ],
   "source": [
    "fig=plt.figure(figsize=(10, 5))\n",
    "\n",
    "plt.plot(gr[:lenVal],'orangered',label='Obs')\n",
    "plt.plot(MLP1_out,'royalblue',label='Mod ($ \\\\rho$=0.78)')\n",
    "\n",
    "plt.ylabel('Precipitation [mm/h]', size=16)\n",
    "plt.xlabel('#Time Step', size=16) \n",
    "#plt.title('Hohenpeissenberg - Validation (Hourly Data)', size=18)\n",
    "plt.legend(loc='upper left');\n",
    "plt.show()\n",
    "\n",
    "fig.savefig('Plots/Ref_HourlySc_t=0.pdf', dpi=80)"
   ]
  },
  {
   "cell_type": "markdown",
   "id": "underlying-memory",
   "metadata": {},
   "source": [
    "...looks good :-)\n",
    "    \n",
    "Let's see what performance measdures we get:"
   ]
  },
  {
   "cell_type": "code",
   "execution_count": 17,
   "id": "structured-bachelor",
   "metadata": {},
   "outputs": [
    {
     "name": "stdout",
     "output_type": "stream",
     "text": [
      "bias: 0.04533379773881202 MSE: 0.17464401387237505 corr: 0.8243168296914442\n"
     ]
    }
   ],
   "source": [
    "MSE_MLP1=mean_squared_error(gr[:lenVal],MLP1_out.flatten())\n",
    "\n",
    "bias_MLP1=np.mean(MLP1_out.reshape(1,-1))-np.mean(gr[:lenVal])\n",
    "\n",
    "corr_MLP1=np.corrcoef(gr[:lenVal],MLP1_out.reshape(1,-1))[0,1]\n",
    "\n",
    "\n",
    "print('bias:',bias_MLP1,'MSE:',MSE_MLP1,'corr:',corr_MLP1)"
   ]
  },
  {
   "cell_type": "markdown",
   "id": "familiar-exception",
   "metadata": {},
   "source": [
    "The scatter Plot shows some details:"
   ]
  },
  {
   "cell_type": "code",
   "execution_count": 18,
   "id": "moved-detroit",
   "metadata": {},
   "outputs": [
    {
     "data": {
      "image/png": "[encoded data removed]",
      "text/plain": [
       "<Figure size 480x480 with 1 Axes>"
      ]
     },
     "metadata": {
      "needs_background": "light"
     },
     "output_type": "display_data"
    }
   ],
   "source": [
    "fig=plt.figure(figsize=(6, 6), dpi=80)\n",
    "plt.xlim(0,6.5)\n",
    "plt.ylim(0,6.5)\n",
    "\n",
    "plt.scatter(gr[:lenVal],MLP1_out,label='Obs vs. Mod ($ \\\\rho$=0.80)');\n",
    "plt.plot(gr[:lenVal],gr[:lenVal],'-',color='black',label='perfect fit');\n",
    "plt.xlabel('Observations [mm/h]', size=16);\n",
    "plt.ylabel('Model Output [mm/h]', size=16);\n",
    "#plt.title('Validation (Hourly Data)', size=18);\n",
    "plt.legend(loc='upper left');\n",
    "\n",
    "fig.savefig('Plots/Scatter_HourlySc_t=0.pdf', dpi=80)"
   ]
  },
  {
   "cell_type": "markdown",
   "id": "heavy-namibia",
   "metadata": {},
   "source": [
    "Compared to the Bias of the Z-R-solution the bias is slightly smaller.  \n",
    "\n",
    "In addition to that, the performance in terms of the correlation is much better.  \n",
    "\n",
    "We have increased the Pearson correlation from 0.63 (Z/R) to 0.80 - a big deal.  "
   ]
  },
  {
   "cell_type": "markdown",
   "id": "recent-radical",
   "metadata": {},
   "source": [
    "### Exercise 1)\n",
    "\n",
    "1) Try to optimize the results of the Simple FFNN\n",
    "- change number of neurons\n",
    "- optimize learning strategy (learning rate, learning rate schedule, optimizer...)\n",
    "\n",
    "2) Is a deeper model better? Include more Dense layers\n",
    "\n",
    "3) How does the activation function affect the result? \n",
    "\n"
   ]
  },
  {
   "cell_type": "code",
   "execution_count": null,
   "id": "extended-lloyd",
   "metadata": {},
   "outputs": [],
   "source": []
  },
  {
   "cell_type": "markdown",
   "id": "portable-citation",
   "metadata": {},
   "source": [
    "## 3) Improvements"
   ]
  },
  {
   "cell_type": "markdown",
   "id": "wicked-crossing",
   "metadata": {},
   "source": [
    "Now we have different possibilities to further increase our Models correction abilities:\n",
    "\n",
    "### 1) include more useful information e.g. from time-lagged Radar information\n",
    "\n",
    "#### Hypothesis 1:\n",
    "The radar measures raindrops at about 2km height above ground.   \n",
    "Thus we have a drift of the rain amount both in time and space. Therefore the rain amount observed by the radar at a specific time may fall to the ground only a time step later...  \n",
    "\n",
    "#### Hypothesis 2: \n",
    "Other meteorological variables such as wind speed and direction or temperature will have an influence on the way how rain falls down from the radar observation region high above the ground. Therefore information about the overall weather conditions could help the model to adapt the precipitation amount...  \n",
    "\n",
    "### 2) adapt the model structure\n",
    "\n",
    "#### Hypothesis 1: \n",
    "The relationship between radar reflectivity and rainfall amount on the ground is highly non-linear.  \n",
    "An increased complexity of the FFNN, i.e. deepness of the model, number of hidden neurons in the fully connected layers,... will help to model these highly non-linear relationships.  \n",
    "\n",
    "#### Hypothesis 2: \n",
    "In general we have a time series model. FFNNs are not really able to take the time series structure of the data into account. A recurrent NN could be much more suitable to represent the time series structure of the underlying modeling task."
   ]
  },
  {
   "cell_type": "markdown",
   "id": "demographic-walnut",
   "metadata": {},
   "source": [
    "### 3.1) Recurrent NN - simple RNN & LSTM"
   ]
  },
  {
   "cell_type": "markdown",
   "id": "lined-residence",
   "metadata": {},
   "source": [
    "we need the SimpleRNN and the LSTM Layers for our next experiments..."
   ]
  },
  {
   "cell_type": "code",
   "execution_count": 19,
   "id": "expressed-vermont",
   "metadata": {},
   "outputs": [],
   "source": [
    "from tensorflow.keras.layers import SimpleRNN, LSTM"
   ]
  },
  {
   "cell_type": "code",
   "execution_count": 20,
   "id": "large-independence",
   "metadata": {},
   "outputs": [],
   "source": [
    "# Assuming X_in is a long time series with one variable\n",
    "# and y_tar is the corresponding target vector\n",
    "\n",
    "# Example data preparation\n",
    "time_series_length = len(in_train)\n",
    "\n",
    "\n",
    "# Reshape data for RNN \n",
    "# assuming a sequence length of 12 for each sample (history) is suitable\n",
    "# defines the length of the history the model will see\n",
    "\n",
    "sequence_length = 12\n",
    "X_train = []\n",
    "y_train = []\n",
    "\n",
    "X_test = []\n",
    "y_test = []\n",
    "\n",
    "for i in range(len(in_train) - sequence_length):\n",
    "    X_train.append(in_train[i:i+sequence_length])\n",
    "    y_train.append(gr_train[i+sequence_length-1])\n",
    "\n",
    "X_train = np.array(X_train)\n",
    "y_train = np.array(y_train)\n",
    "\n",
    "for i in range(len(in_val) - sequence_length):\n",
    "    X_test.append(in_val[i:i+sequence_length])\n",
    "    y_test.append(gr_val[i+sequence_length-1])\n",
    "\n",
    "X_test = np.array(X_test)\n",
    "y_test = np.array(y_test)"
   ]
  },
  {
   "cell_type": "code",
   "execution_count": 21,
   "id": "working-demand",
   "metadata": {},
   "outputs": [
    {
     "name": "stdout",
     "output_type": "stream",
     "text": [
      "(841, 12, 1) (841,)\n"
     ]
    }
   ],
   "source": [
    "print(np.shape(X_test),np.shape(y_test))"
   ]
  },
  {
   "cell_type": "markdown",
   "id": "legitimate-bunny",
   "metadata": {},
   "source": [
    "Our data is now restructured:\n",
    "\n",
    "841 samples of length 12 (non overlapping time periods, each time window is one input sample for the RNN).\n",
    "\n",
    "This is a simple example how to setup a RNN Model.\n",
    "It is not yet fine-tuned..."
   ]
  },
  {
   "cell_type": "code",
   "execution_count": 22,
   "id": "boxed-ordering",
   "metadata": {},
   "outputs": [
    {
     "data": {
      "image/png": "[encoded data removed]",
      "text/plain": [
       "<Figure size 432x288 with 1 Axes>"
      ]
     },
     "metadata": {
      "needs_background": "light"
     },
     "output_type": "display_data"
    },
    {
     "name": "stdout",
     "output_type": "stream",
     "text": [
      "18/18 [==============================] - 2s 113ms/step - loss: 0.0345 - mean_squared_error: 0.0345 - val_loss: 0.1851 - val_mean_squared_error: 0.1851 - lr: 6.4611e-05\n",
      "841/841 [==============================] - 1s 1ms/step - loss: 0.1503 - mean_squared_error: 0.1503\n"
     ]
    }
   ],
   "source": [
    "from tensorflow.random import set_seed\n",
    "set_seed(20)\n",
    "\n",
    "# Setup the RNN model\n",
    "RNNmodel = Sequential()\n",
    "\n",
    "# RNN Cell, Input dimension is length of history\n",
    "RNNmodel.add(SimpleRNN(units=500, input_shape=(sequence_length, 1), activation='relu'))\n",
    "RNNmodel.add(Dropout(0.1))\n",
    "\n",
    "# RNN Cell \n",
    "RNNmodel.add(Dense(units=1, activation='linear'))\n",
    "\n",
    "# Compile Model\n",
    "RNNmodel.compile(optimizer=Adam(learning_rate=0.001), \n",
    "                 loss='mean_squared_error',\n",
    "                metrics=['mean_squared_error'])\n",
    "\n",
    "# early stopping\n",
    "earlyStop = keras.callbacks.EarlyStopping(monitor='val_mean_squared_error',\n",
    "                                                     patience=100, \n",
    "                                                     restore_best_weights=True)\n",
    "# learning rate schedule\n",
    "reduce_lr = ReduceLROnPlateau(monitor='val_loss', factor=0.9, patience=10, min_lr=1e-6)\n",
    "\n",
    "# Train the Model\n",
    "RNNmodel.fit(X_train, y_train, \n",
    "             epochs=1000,\n",
    "             batch_size=200,\n",
    "             verbose=1, \n",
    "             callbacks=[plot_losses, earlyStop,reduce_lr],\n",
    "                      validation_data=(X_test,y_test))\n",
    " \n",
    "# Evaluate Model\n",
    "score = RNNmodel.evaluate(X_test,y_test, batch_size=1)\n"
   ]
  },
  {
   "cell_type": "markdown",
   "id": "traditional-brother",
   "metadata": {},
   "source": [
    "Rescale Model Predictions"
   ]
  },
  {
   "cell_type": "code",
   "execution_count": 23,
   "id": "twelve-floor",
   "metadata": {},
   "outputs": [
    {
     "name": "stdout",
     "output_type": "stream",
     "text": [
      "27/27 [==============================] - 0s 12ms/step\n"
     ]
    }
   ],
   "source": [
    "data_out_usc_RNN = RNNmodel.predict(X_test)\n",
    "RNN_out_sc = data_out_usc_RNN*np.std(gr)+np.mean(gr)\n",
    "y_test_sc=y_test*np.std(gr)+np.mean(gr)\n",
    "#Set negative Values to 0\n",
    "RNN_out = np.where(RNN_out_sc < 0, 0, RNN_out_sc)"
   ]
  },
  {
   "cell_type": "code",
   "execution_count": 24,
   "id": "secure-thanks",
   "metadata": {
    "scrolled": true
   },
   "outputs": [
    {
     "data": {
      "image/png": "[encoded data removed]",
      "text/plain": [
       "<Figure size 720x360 with 1 Axes>"
      ]
     },
     "metadata": {
      "needs_background": "light"
     },
     "output_type": "display_data"
    }
   ],
   "source": [
    "fig=plt.figure(figsize=(10, 5))\n",
    "\n",
    "plt.plot(y_test_sc,'orangered',label='Obs')\n",
    "plt.plot(RNN_out,'royalblue',label='Mod ($ \\\\rho$=0.78)')\n",
    "\n",
    "plt.ylabel('Precipitation [mm/h]', size=16)\n",
    "plt.xlabel('#Time Step', size=16) \n",
    "#plt.title('Hohenpeissenberg - Validation (Hourly Data)', size=18)\n",
    "plt.legend(loc='upper left');\n",
    "plt.show()\n",
    "\n"
   ]
  },
  {
   "cell_type": "markdown",
   "id": "vocational-marriage",
   "metadata": {},
   "source": [
    "### 3.2) Analyze Performance"
   ]
  },
  {
   "cell_type": "code",
   "execution_count": 25,
   "id": "informal-brake",
   "metadata": {},
   "outputs": [
    {
     "name": "stdout",
     "output_type": "stream",
     "text": [
      "bias: 0.07230609 MSE: 0.24015286157980426 corr: 0.8012046658884151\n"
     ]
    }
   ],
   "source": [
    "MSE_RNN=mean_squared_error(RNN_out.flatten(),y_test_sc)\n",
    "\n",
    "bias_RNN=np.mean(RNN_out.flatten()-np.mean(y_test_sc))\n",
    "\n",
    "corr_RNN=np.corrcoef(RNN_out.flatten(),y_test_sc)[0,1]\n",
    "\n",
    "\n",
    "print('bias:',bias_RNN,'MSE:',MSE_RNN,'corr:',corr_RNN)"
   ]
  },
  {
   "cell_type": "markdown",
   "id": "developed-boundary",
   "metadata": {},
   "source": [
    "### Exercise 2)\n",
    "\n",
    "1) Try to optimize the results of the SimpleRNN\n",
    "- change number of units\n",
    "- optimize learning strategy (learning rate, learning rate schedule, optimizer...)\n",
    "\n",
    "2) Use an LSTM-Block instead of the SimpleRNN and fine-tune the model\n",
    "\n",
    "3) change the length of the history\n",
    "\n"
   ]
  },
  {
   "cell_type": "code",
   "execution_count": null,
   "id": "departmental-bidding",
   "metadata": {},
   "outputs": [],
   "source": []
  },
  {
   "cell_type": "markdown",
   "id": "perceived-router",
   "metadata": {},
   "source": [
    "## 4) Compare Modeling Results"
   ]
  },
  {
   "cell_type": "code",
   "execution_count": 26,
   "id": "formed-anger",
   "metadata": {},
   "outputs": [
    {
     "data": {
      "text/html": [
       "<div>\n",
       "<style scoped>\n",
       "    .dataframe tbody tr th:only-of-type {\n",
       "        vertical-align: middle;\n",
       "    }\n",
       "\n",
       "    .dataframe tbody tr th {\n",
       "        vertical-align: top;\n",
       "    }\n",
       "\n",
       "    .dataframe thead th {\n",
       "        text-align: right;\n",
       "    }\n",
       "</style>\n",
       "<table border=\"1\" class=\"dataframe\">\n",
       "  <thead>\n",
       "    <tr style=\"text-align: right;\">\n",
       "      <th></th>\n",
       "      <th>0</th>\n",
       "      <th>1</th>\n",
       "      <th>2</th>\n",
       "      <th>3</th>\n",
       "    </tr>\n",
       "  </thead>\n",
       "  <tbody>\n",
       "    <tr>\n",
       "      <th>0</th>\n",
       "      <td>Metrics</td>\n",
       "      <td>Z-R</td>\n",
       "      <td>FFNN</td>\n",
       "      <td>SimpleRNN</td>\n",
       "    </tr>\n",
       "    <tr>\n",
       "      <th>1</th>\n",
       "      <td>MSE</td>\n",
       "      <td>1.16458</td>\n",
       "      <td>0.174644</td>\n",
       "      <td>0.240153</td>\n",
       "    </tr>\n",
       "    <tr>\n",
       "      <th>2</th>\n",
       "      <td>Bias</td>\n",
       "      <td>0.05523</td>\n",
       "      <td>0.045334</td>\n",
       "      <td>0.072306</td>\n",
       "    </tr>\n",
       "    <tr>\n",
       "      <th>3</th>\n",
       "      <td>Corr</td>\n",
       "      <td>0.635948</td>\n",
       "      <td>0.824317</td>\n",
       "      <td>0.801205</td>\n",
       "    </tr>\n",
       "  </tbody>\n",
       "</table>\n",
       "</div>"
      ],
      "text/plain": [
       "         0         1         2          3\n",
       "0  Metrics       Z-R      FFNN  SimpleRNN\n",
       "1      MSE   1.16458  0.174644   0.240153\n",
       "2     Bias   0.05523  0.045334   0.072306\n",
       "3     Corr  0.635948  0.824317   0.801205"
      ]
     },
     "metadata": {},
     "output_type": "display_data"
    }
   ],
   "source": [
    "# Assume you have collected metrics for each model\n",
    "model_metrics=[['Metrics','Z-R','FFNN','SimpleRNN'],\n",
    "              ['MSE',MSE_ZR,MSE_MLP1,MSE_RNN],\n",
    "              ['Bias',bias_ZR,bias_MLP1,bias_RNN],\n",
    "              ['Corr',corr_ZR,corr_MLP1,corr_RNN]]\n",
    "\n",
    "# Create a DataFrame\n",
    "model_comparison_df = pd.DataFrame(model_metrics)\n",
    "\n",
    "# Display the DataFrame as a table\n",
    "display(model_comparison_df)"
   ]
  },
  {
   "cell_type": "markdown",
   "id": "instrumental-departure",
   "metadata": {},
   "source": [
    "## Summary\n",
    "\n",
    "We have shown that a simple Feedforward Neural Network is able to transform radar reflectivities to precipitation.\n",
    "\n",
    "The use of a RNN (specifically designed for the modeling of time series) could further improve the result.\n",
    "\n",
    "## Possible Improvements\n",
    "\n",
    "Possible improvements:\n",
    "\n",
    "1) Optimize the training of the Feedforward Network by adapted regularization procedures\n",
    "\n",
    "2) Use additional input Features such as Time-Lagged information or additional meteorological variables\n",
    "\n",
    "3) Use an ensemble of models to get an improved performance and assess for statistics of model uncertainty\n",
    "\n",
    "4) establish a cascade of models that reduce the residual error step by step (boosting)\n",
    "\n",
    "5) Implement sophisticated Recurrent Neural Network Topologies such as ECNN or HCNN specifically suitable for time-series modeling\n",
    "\n",
    "\n",
    "\n",
    "## Challenges\n",
    "\n",
    "In reality we will not only have to correct for bias in grid cells where observations are available. We want to correct the complete Radar field (also comprising cells without available ground observations).\n",
    "\n",
    "### Question to think about: \n",
    "how can we transfer our NN model to get a FIELD of corrected Radar Precipitation?\n",
    "\n",
    "The representation of precipitation fields by remote sensing is known to have not only a spatial but also a temporal offset compared to observations at the ground level\n",
    "\n",
    "### Question to think about: \n",
    "what kind of ML-Model could we use and how would we have to set it up to take account of the spatio-teporal nature of the bias of radar Precipitation?"
   ]
  },
  {
   "cell_type": "code",
   "execution_count": null,
   "id": "thousand-infrastructure",
   "metadata": {},
   "outputs": [],
   "source": []
  }
 ],
 "metadata": {
  "kernelspec": {
   "display_name": "Python 3",
   "language": "python",
   "name": "python3"
  },
  "language_info": {
   "codemirror_mode": {
    "name": "ipython",
    "version": 3
   },
   "file_extension": ".py",
   "mimetype": "text/x-python",
   "name": "python",
   "nbconvert_exporter": "python",
   "pygments_lexer": "ipython3",
   "version": "3.8.7"
  }
 },
 "nbformat": 4,
 "nbformat_minor": 5
}
